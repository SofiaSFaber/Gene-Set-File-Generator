{
  "cells": [
    {
      "attachments": {},
      "cell_type": "markdown",
      "metadata": {
        "id": "7AbM7Kcx9Us2"
      },
      "source": [
        "## **SCRIPT TO GENERATE GENESET FILE WITH THE CODES OF THE GENES BASED IN THEIR NAMES**\n",
        "#### **SCRIPT PARA GERAR ARQUIVO GENESET COM OS CÓDIGOS DOS GENES A PARTIR DOS NOMES DELES**"
      ]
    },
    {
      "attachments": {},
      "cell_type": "markdown",
      "metadata": {
        "id": "M7xswmcC7U7F"
      },
      "source": [
        "##### **1. LIBRARIES IMPORT**\n",
        "###### **IMPORTAÇÃO DE BIBLIOTECAS**"
      ]
    },
    {
      "cell_type": "code",
      "execution_count": null,
      "metadata": {
        "id": "GzD70FUo0Hv2"
      },
      "outputs": [],
      "source": [
        "import pandas as pd\n",
        "from google.colab import files"
      ]
    },
    {
      "attachments": {},
      "cell_type": "markdown",
      "metadata": {
        "id": "7T6EsTky7ZNQ"
      },
      "source": [
        "#### **2. UPLOAD THE '*NCBI37.3*' FILE**\n",
        "##### **UPLOAD DO ARQUIVO '*NCBI37.3*'**"
      ]
    },
    {
      "cell_type": "code",
      "execution_count": null,
      "metadata": {
        "id": "HO-696hK2hjh"
      },
      "outputs": [],
      "source": [
        "files.upload()"
      ]
    },
    {
      "attachments": {},
      "cell_type": "markdown",
      "metadata": {
        "id": "MCRNzqQL7lBT"
      },
      "source": [
        "#### **3. READ THE '*NCBI37.7*' FILE**\n",
        "##### **LEITURA DO ARQUIVO '*NCBI37.3*'**"
      ]
    },
    {
      "cell_type": "code",
      "execution_count": null,
      "metadata": {
        "id": "bKPp5RrKzOdf"
      },
      "outputs": [],
      "source": [
        "file = pd.read_csv('NCBI37.3.gene.loc', sep='\\t', header=None).values.tolist()"
      ]
    },
    {
      "attachments": {},
      "cell_type": "markdown",
      "metadata": {
        "id": "Ic3j0jTk7smq"
      },
      "source": [
        "#### **4. SHOW THE 'N*CBI37.31*' FILE CONTENT** (check the content)\n",
        "##### **MOSTRA CONTEÚDO DO ARQUIVO '*NCBI37.3*'** (verificar o conteúdo)\n"
      ]
    },
    {
      "cell_type": "code",
      "execution_count": null,
      "metadata": {
        "id": "cFJuySSn1j5F"
      },
      "outputs": [],
      "source": [
        "file"
      ]
    },
    {
      "attachments": {},
      "cell_type": "markdown",
      "metadata": {
        "id": "zwClxRV576pV"
      },
      "source": [
        "#### **5. UPLOAD THE '*GENESET*' FILE**\n",
        "##### **UPLOAD DO ARQUIVO DO '*GENESET*'**\n",
        "\n"
      ]
    },
    {
      "cell_type": "code",
      "execution_count": null,
      "metadata": {
        "id": "jbB2wzyZ8A0E"
      },
      "outputs": [],
      "source": [
        "files.upload()"
      ]
    },
    {
      "attachments": {},
      "cell_type": "markdown",
      "metadata": {
        "id": "xrx7GaNM8B6C"
      },
      "source": [
        "#### **6. READ THE '*GENESET*' FILE** (change the file name if necessary)\n",
        "##### **LEITURA DO ARQUIVO DO '*GENESET*'** (trocar o nome do arquivo de necessário)\n"
      ]
    },
    {
      "cell_type": "code",
      "execution_count": null,
      "metadata": {
        "id": "taOMAs1Z2tyS"
      },
      "outputs": [],
      "source": [
        "geneset = pd.read_csv('GeneSetExample.txt', sep='\\r\\n', header=None).values.tolist()"
      ]
    },
    {
      "attachments": {},
      "cell_type": "markdown",
      "metadata": {
        "id": "ya56KYJN8Gte"
      },
      "source": [
        "#### **7. SHOW THE '*GENESET*' FILE CONTENT** (check if the genes are correct)\n",
        "##### **MOSTRA CONTEÚDO DO ARQUIVO DO '*GENESET*'** (verificar se os genes estão certos)"
      ]
    },
    {
      "cell_type": "code",
      "execution_count": null,
      "metadata": {
        "id": "rqkBy5q-296g"
      },
      "outputs": [],
      "source": [
        "geneset"
      ]
    },
    {
      "attachments": {},
      "cell_type": "markdown",
      "metadata": {
        "id": "ZgJ3aluc8Oe5"
      },
      "source": [
        "#### **8. SEARCH THE GENE CODES OF THE '*GENESET*' FILE** (recommended to check if you got the codes for all the genes. As some genes have several names, if you don't find the code you can try with another name)\n",
        "##### **BUSCA PELOS CÓDIGOS DOS GENES DO ARQUIVO DO '*GENESET*'** (recomendado verificar se conseguiu os códigos para todos os genes. Como alguns genes possuem várias nomeações, se não encontrar o código pode-se tentar com outro nome)"
      ]
    },
    {
      "cell_type": "code",
      "execution_count": null,
      "metadata": {
        "id": "slTdFOd_3Mug"
      },
      "outputs": [],
      "source": [
        "listcode = []\n",
        "for i in range (len(geneset)):\n",
        "  gene = geneset[i][0]\n",
        "  for a in range (len(file)):\n",
        "    if gene == file[a][5]:\n",
        "      print(\"Line \"+str(i+1)+\" - Gene: \"+str(gene)+\" - Code: \"+str(file[a][0]))\n",
        "      listcode.append(file[a][0])\n",
        "      break\n",
        "\n",
        "if len(geneset)!=len(listcode):\n",
        "  print(\"\\n\\nIt was not possible to find the code of some genes\\nNão foi possível encontrar o código de alguns genes\")"
      ]
    },
    {
      "attachments": {},
      "cell_type": "markdown",
      "metadata": {
        "id": "D2sHKD668jLj"
      },
      "source": [
        "#### **9. GENERATION OF THE '*GENESET*' FILE WITH THE CODES**\n",
        "##### **CRIAÇÃO DO ARQUIVO '*GENESET*' COM OS CÓDIGOS**"
      ]
    },
    {
      "cell_type": "code",
      "execution_count": null,
      "metadata": {
        "id": "-nu5IzAG9DhZ"
      },
      "outputs": [],
      "source": [
        "f=open(\"Set.txt\", \"a+\")\n",
        "f.write(\"SET\\t\")\n",
        "for j in range(len(listcode)):\n",
        "     f.write(str(listcode[j])+\"\\t\")\n",
        "f.close()"
      ]
    }
  ],
  "metadata": {
    "colab": {
      "provenance": []
    },
    "kernelspec": {
      "display_name": "Python 3",
      "name": "python3"
    },
    "language_info": {
      "name": "python"
    }
  },
  "nbformat": 4,
  "nbformat_minor": 0
}
